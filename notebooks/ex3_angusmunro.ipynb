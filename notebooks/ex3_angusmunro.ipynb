{
 "cells": [
  {
   "cell_type": "code",
   "execution_count": 1,
   "metadata": {},
   "outputs": [
    {
     "name": "stdout",
     "output_type": "stream",
     "text": [
      "/home/angus_munro/projects/ex3/INF368-Ex3\n"
     ]
    },
    {
     "name": "stderr",
     "output_type": "stream",
     "text": [
      "Using TensorFlow backend.\n"
     ]
    },
    {
     "name": "stdout",
     "output_type": "stream",
     "text": [
      "### Testing triplet_generator ###\n",
      "0 a: (4, 299, 299, 3) p: (4, 299, 299, 3) n: (4, 299, 299, 3) y: (4, 2)\n",
      "1 a: (4, 299, 299, 3) p: (4, 299, 299, 3) n: (4, 299, 299, 3) y: (4, 2)\n",
      "2 a: (4, 299, 299, 3) p: (4, 299, 299, 3) n: (4, 299, 299, 3) y: (4, 2)\n",
      "3 a: (4, 299, 299, 3) p: (4, 299, 299, 3) n: (4, 299, 299, 3) y: (4, 2)\n"
     ]
    }
   ],
   "source": [
    "%cd /home/angus_munro/projects/ex3/INF368-Ex3\n",
    "\n",
    "from keras.models import load_model\n",
    "from keras.callbacks import CSVLogger\n",
    "from keras.optimizers import SGD, Adam\n",
    "\n",
    "import os\n",
    "\n",
    "from create_model import create_base_network, in_dim, tripletize, std_triplet_loss, alt_triplet_loss\n",
    "from generators import triplet_generator\n",
    "import testing as T\n",
    "\n",
    "import config as C\n",
    "\n",
    "last = C.last"
   ]
  },
  {
   "cell_type": "markdown",
   "metadata": {},
   "source": [
    "It was found that the default base model, which was fully trainable, led to validation loss remaining maxed out at 5.0 during training, at least for 50 epochs. Training loss decreased in a reasonable way. It is likely that the weights in the Inception body were thrown off by the influence of the new last layer weights. To remedy this, weights of the new layer alone were first trained:"
   ]
  },
  {
   "cell_type": "code",
   "execution_count": 2,
   "metadata": {},
   "outputs": [],
   "source": [
    "from am_plankton import set_trainable_layers"
   ]
  },
  {
   "cell_type": "code",
   "execution_count": 3,
   "metadata": {},
   "outputs": [
    {
     "name": "stdout",
     "output_type": "stream",
     "text": [
      "WARNING:tensorflow:From /home/angus_munro/.local/lib/python3.5/site-packages/tensorflow/python/framework/op_def_library.py:263: colocate_with (from tensorflow.python.framework.ops) is deprecated and will be removed in a future version.\n",
      "Instructions for updating:\n",
      "Colocations handled automatically by placer.\n"
     ]
    }
   ],
   "source": [
    "base_model = create_base_network(in_dim)"
   ]
  },
  {
   "cell_type": "code",
   "execution_count": 4,
   "metadata": {},
   "outputs": [],
   "source": [
    "set_trainable_layers(base_model, 1)\n",
    "model = tripletize(base_model)\n",
    "#model.compile(optimizer=SGD(lr=C.learn_rate, momentum=0.9),\n",
    "#             loss=std_triplet_loss())\n",
    "model.compile(optimizer=Adam(),\n",
    "             loss=alt_triplet_loss())\n",
    "\n",
    "def avg(x):\n",
    "    return sum(x)/len(x)\n"
   ]
  },
  {
   "cell_type": "code",
   "execution_count": 40,
   "metadata": {},
   "outputs": [],
   "source": [
    "#vs = T.get_vectors(base_model, C.val_dir)"
   ]
  },
  {
   "cell_type": "code",
   "execution_count": 5,
   "metadata": {},
   "outputs": [],
   "source": [
    "gen = triplet_generator(100, None ,C.val_dir)\n",
    "#[a,p,n], y = next(gen)\n",
    "X, y = next(gen)"
   ]
  },
  {
   "cell_type": "code",
   "execution_count": 6,
   "metadata": {},
   "outputs": [
    {
     "data": {
      "text/plain": [
       "4.821909637451172"
      ]
     },
     "execution_count": 6,
     "metadata": {},
     "output_type": "execute_result"
    }
   ],
   "source": [
    "model.evaluate(X, y, verbose=0) #display the score"
   ]
  },
  {
   "cell_type": "code",
   "execution_count": null,
   "metadata": {},
   "outputs": [
    {
     "name": "stdout",
     "output_type": "stream",
     "text": [
      "Epoch 1/5\n",
      "300/300 [==============================] - 274s 915ms/step - loss: 3.1558 - val_loss: 4.0172\n",
      "Epoch 2/5\n",
      "300/300 [==============================] - 241s 802ms/step - loss: 2.7693 - val_loss: 3.8837\n",
      "Epoch 3/5\n",
      "281/300 [===========================>..] - ETA: 12s - loss: 2.6571"
     ]
    }
   ],
   "source": [
    "logger = CSVLogger(C.logfile, append=True, separator='\\t')\n",
    "model.fit_generator(\n",
    "        triplet_generator(C.batch_size, None, C.train_dir), steps_per_epoch=300, epochs=C.iterations,\n",
    "        callbacks=[logger],\n",
    "        validation_data=triplet_generator(C.batch_size, None, C.val_dir), validation_steps=100)"
   ]
  },
  {
   "cell_type": "code",
   "execution_count": null,
   "metadata": {},
   "outputs": [],
   "source": [
    "model.evaluate(X, y, verbose=0) #display the score"
   ]
  },
  {
   "cell_type": "code",
   "execution_count": null,
   "metadata": {},
   "outputs": [
    {
     "name": "stdout",
     "output_type": "stream",
     "text": [
      "Epoch 1/5\n",
      "300/300 [==============================] - 220s 734ms/step - loss: 2.5259 - val_loss: 3.8521\n",
      "Epoch 2/5\n",
      "158/300 [==============>...............] - ETA: 1:13 - loss: 2.4744"
     ]
    }
   ],
   "source": [
    "set_trainable_layers(base_model, 2)\n",
    "model.compile(optimizer=Adam(),\n",
    "             loss=alt_triplet_loss())\n",
    "model.fit_generator(\n",
    "        triplet_generator(C.batch_size, None, C.train_dir), steps_per_epoch=300, epochs=C.iterations,\n",
    "        callbacks=[logger],\n",
    "        validation_data=triplet_generator(C.batch_size, None, C.val_dir), validation_steps=100)"
   ]
  },
  {
   "cell_type": "code",
   "execution_count": 28,
   "metadata": {},
   "outputs": [
    {
     "data": {
      "text/plain": [
       "5"
      ]
     },
     "execution_count": 28,
     "metadata": {},
     "output_type": "execute_result"
    }
   ],
   "source": [
    "len(model.layers)"
   ]
  },
  {
   "cell_type": "code",
   "execution_count": 29,
   "metadata": {},
   "outputs": [
    {
     "data": {
      "text/plain": [
       "[<keras.engine.input_layer.InputLayer at 0x7f11208930f0>,\n",
       " <keras.engine.input_layer.InputLayer at 0x7f1120893208>,\n",
       " <keras.engine.input_layer.InputLayer at 0x7f1120a5f2b0>,\n",
       " <keras.engine.training.Model at 0x7f112084a278>,\n",
       " <keras.layers.merge.Concatenate at 0x7f1120aa0a58>]"
      ]
     },
     "execution_count": 29,
     "metadata": {},
     "output_type": "execute_result"
    }
   ],
   "source": [
    "model.layers"
   ]
  },
  {
   "cell_type": "code",
   "execution_count": 34,
   "metadata": {},
   "outputs": [
    {
     "data": {
      "text/plain": [
       "[False, False, False, True, True]"
      ]
     },
     "execution_count": 34,
     "metadata": {},
     "output_type": "execute_result"
    }
   ],
   "source": [
    "[l.trainable for l in model.layers]"
   ]
  },
  {
   "cell_type": "code",
   "execution_count": 47,
   "metadata": {},
   "outputs": [
    {
     "data": {
      "text/plain": [
       "1"
      ]
     },
     "execution_count": 47,
     "metadata": {},
     "output_type": "execute_result"
    }
   ],
   "source": [
    "sum(l.trainable for l in base_model.layers)"
   ]
  },
  {
   "cell_type": "code",
   "execution_count": 39,
   "metadata": {},
   "outputs": [
    {
     "name": "stdout",
     "output_type": "stream",
     "text": [
      "__________________________________________________________________________________________________\n",
      "Layer (type)                    Output Shape         Param #     Connected to                     \n",
      "==================================================================================================\n",
      "input_9 (InputLayer)            (None, 299, 299, 3)  0                                            \n",
      "__________________________________________________________________________________________________\n",
      "input_10 (InputLayer)           (None, 299, 299, 3)  0                                            \n",
      "__________________________________________________________________________________________________\n",
      "input_11 (InputLayer)           (None, 299, 299, 3)  0                                            \n",
      "__________________________________________________________________________________________________\n",
      "model_3 (Model)                 (None, 64)           21933920    input_9[0][0]                    \n",
      "                                                                 input_10[0][0]                   \n",
      "                                                                 input_11[0][0]                   \n",
      "__________________________________________________________________________________________________\n",
      "concatenate_7 (Concatenate)     (None, 192)          0           model_3[4][0]                    \n",
      "                                                                 model_3[5][0]                    \n",
      "                                                                 model_3[6][0]                    \n",
      "==================================================================================================\n",
      "Total params: 21,933,920\n",
      "Trainable params: 131,136\n",
      "Non-trainable params: 21,802,784\n",
      "__________________________________________________________________________________________________\n"
     ]
    }
   ],
   "source": [
    "model.summary()"
   ]
  },
  {
   "cell_type": "code",
   "execution_count": 46,
   "metadata": {},
   "outputs": [
    {
     "data": {
      "text/plain": [
       "<keras.engine.training.Model at 0x7f0c289d85c0>"
      ]
     },
     "execution_count": 46,
     "metadata": {},
     "output_type": "execute_result"
    }
   ],
   "source": [
    "model"
   ]
  },
  {
   "cell_type": "code",
   "execution_count": null,
   "metadata": {},
   "outputs": [],
   "source": []
  }
 ],
 "metadata": {
  "kernelspec": {
   "display_name": "Python 3",
   "language": "python",
   "name": "python3"
  },
  "language_info": {
   "codemirror_mode": {
    "name": "ipython",
    "version": 3
   },
   "file_extension": ".py",
   "mimetype": "text/x-python",
   "name": "python",
   "nbconvert_exporter": "python",
   "pygments_lexer": "ipython3",
   "version": "3.5.3"
  }
 },
 "nbformat": 4,
 "nbformat_minor": 2
}
